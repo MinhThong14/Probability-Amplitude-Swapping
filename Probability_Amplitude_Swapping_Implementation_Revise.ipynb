{
 "cells": [
  {
   "cell_type": "code",
   "execution_count": 399,
   "id": "d7c03395",
   "metadata": {},
   "outputs": [],
   "source": [
    "# Probability Amplitude Swapping Implementation\n",
    "# Date Dec 20, 2023\n",
    "# Code Author Tom Mai"
   ]
  },
  {
   "cell_type": "code",
   "execution_count": 400,
   "id": "bc87e031",
   "metadata": {},
   "outputs": [],
   "source": [
    "from qiskit import QuantumCircuit\n",
    "from qiskit.quantum_info import Statevector\n",
    "from qiskit.quantum_info import Statevector"
   ]
  },
  {
   "cell_type": "code",
   "execution_count": 401,
   "id": "f04dd2a2",
   "metadata": {},
   "outputs": [],
   "source": [
    "# Count number of bits of a number\n",
    "def numBits(num):\n",
    "    count = 0\n",
    "    while num:\n",
    "        count += 1\n",
    "        num >>= 1\n",
    "    return count"
   ]
  },
  {
   "cell_type": "code",
   "execution_count": 402,
   "id": "29c80e24",
   "metadata": {},
   "outputs": [],
   "source": [
    "# Find the maximum lenght of bitstring\n",
    "def maxNumBits(x, y):\n",
    "    return max(numBits(x), numBits(y))"
   ]
  },
  {
   "cell_type": "code",
   "execution_count": 403,
   "id": "e79c71ac",
   "metadata": {},
   "outputs": [],
   "source": [
    "# Find the first different bit between x and y (x != y)\n",
    "def diffIndx(x, y) :\n",
    "    # find max bits\n",
    "    maxBitCount = maxNumBits(x, y)\n",
    "    \n",
    "    #find first left most different bit\n",
    "    for i in range(maxBitCount-1, -1, -1):\n",
    "        if (x & (1 << i)) ^ (y & (1 << i)) != 0:\n",
    "            return maxBitCount - i - 1\n",
    "    \n",
    "    return -1\n"
   ]
  },
  {
   "cell_type": "code",
   "execution_count": 404,
   "id": "2fab45d6",
   "metadata": {},
   "outputs": [],
   "source": [
    "# Check if there is jth bit from the right most of bitstring\n",
    "def getBit(num, i):\n",
    "    return num & (1<<i)"
   ]
  },
  {
   "cell_type": "code",
   "execution_count": 405,
   "id": "1108ab64",
   "metadata": {},
   "outputs": [],
   "source": [
    "# Flip the ith bit from the right most of bitstring\n",
    "def flipBit(num,j):\n",
    "    return num ^ (1 << j)\n",
    "    "
   ]
  },
  {
   "cell_type": "code",
   "execution_count": 406,
   "id": "fbd4000c",
   "metadata": {},
   "outputs": [],
   "source": [
    "# Adding leading zeros to a bistring to fit with n number of bits\n",
    "def extendBitString(stringX, numBit):\n",
    "    return stringX.zfill(numBit)"
   ]
  },
  {
   "cell_type": "code",
   "execution_count": 407,
   "id": "0983fd20",
   "metadata": {},
   "outputs": [],
   "source": [
    "def swappingAmplitude(x, y):\n",
    "    # The number of qubit is the length of the longest bitstring among 2 numbers\n",
    "    n = maxNumBits(x, y)\n",
    "    bitStringX = \"{0:b}\".format(x)\n",
    "    bitStringY = \"{0:b}\".format(y)\n",
    "\n",
    "    # Matching the bit string length\n",
    "    if numBits(x) > numBits(y):\n",
    "        bitStringY = extendBitString(bitStringY, n)\n",
    "    elif numBits(x) < numBits(y):\n",
    "        bitStringX = extendBitString(bitStringX, n)\n",
    "    \n",
    "    print('X in: '+bitStringX)\n",
    "    print('Y in: '+bitStringY)\n",
    "\n",
    "    # Create first quantum state\n",
    "    sv1 = Statevector.from_label(bitStringX[::-1])\n",
    "\n",
    "    # Create second quantum state\n",
    "    sv2 = Statevector.from_label(bitStringY[::-1])\n",
    "    \n",
    "    # Create quantum circuit acting on a quantum register of n qubits\n",
    "    circ = QuantumCircuit(n)\n",
    "    \n",
    "    # Find the position of the first different bit between 2 bitstrings from left to right\n",
    "    i = diffIndx(x, y)\n",
    "\n",
    "    if i != -1:\n",
    "        # Create an array of different bits between x and y after the ith bit\n",
    "        diffBits = []\n",
    "\n",
    "        # Create an array of 0 bit after the ith bit after apply CNOT gate\n",
    "        zeroBits = []\n",
    "\n",
    "        # Step 1 applying CNOT gate to every different bits between 2 bitstrings from i to n\n",
    "        for j in range(i+1, n):\n",
    "        #     If jth bit of x and y is different\n",
    "        #     then apply CNOT gate from i to j\n",
    "            if getBit(x, n-j-1) != getBit(y, n-j-1):\n",
    "        #         Adding j to array of different bits\n",
    "                diffBits.append(j)\n",
    "        #         Add CNOT gate to the circuit\n",
    "                circ.cx(i, j)\n",
    "        #         Flip the bit conresponding to CNOT gate in bitstring of x and y the make use in the next operations\n",
    "                if getBit(x, n-i-1) != 0:\n",
    "                    x = flipBit(x, n-j-1)\n",
    "                if getBit(y, n-i-1) != 0:\n",
    "                    y = flipBit(y, n-j-1)\n",
    "\n",
    "        # Step 2.1 applying NOT gate to bits from i to n that different from i bit\n",
    "        for w in range(i+1, n):\n",
    "        #     If there is not bit in the wth position of bitstrings then applying NOT gate to flip the bit \n",
    "            if getBit(x, n-w-1) == 0:\n",
    "        #         Adding w to array of 0 bits after ith bit\n",
    "                zeroBits.append(w)\n",
    "        #         Adding NOT gate at wth bit\n",
    "                circ.x(w)\n",
    "        #         Flip the bit conresponding to NOT gate in bitstring of x and y the make use in the next operations\n",
    "                x = flipBit(x, n-w-1)\n",
    "                y = flipBit(y, n-w-1)\n",
    "\n",
    "        \n",
    "        # Create list of index in control bits\n",
    "        controls = []\n",
    "        for g in range(n):\n",
    "            if g != i:\n",
    "                controls.append(g)\n",
    "        \n",
    "        # Step 2.2 applying MCX gate from control bits to i\n",
    "        circ.mcx(controls, i)\n",
    "\n",
    "        # Flip the ith bit if control bits is 1\n",
    "        if (getBit(x, i+1) != 0):\n",
    "            x = flipBit(x, n-i-1)\n",
    "            y = flipBit(y, n-i-1)\n",
    "\n",
    "        # Step 3.1 repeating Step 2.1\n",
    "        for l in zeroBits:\n",
    "            circ.x(l)\n",
    "        # Flip the bit conresponding to NOT gate in bitstring of x and y the make use in the next operations\n",
    "            x = flipBit(x, n-l-1)\n",
    "            y = flipBit(y, n-l-1)\n",
    "\n",
    "        # Step 3.2 repeating Step 1\n",
    "        for g in diffBits:\n",
    "            circ.cx(i, g)\n",
    "            if getBit(x, n-i-1) != 0:\n",
    "                x = flipBit(x, n-g-1)\n",
    "            if getBit(y, n-i-1) != 0:\n",
    "                y = flipBit(y, n-g-1)\n",
    "\n",
    "        # Applying the circuit to the first quantum state\n",
    "        sv1 = sv1.evolve(circ)\n",
    "\n",
    "        # Applying the circuit to the second quantum state\n",
    "        sv2 = sv2.evolve(circ)\n",
    "        \n",
    "    return circ, sv1, sv2"
   ]
  },
  {
   "cell_type": "code",
   "execution_count": 408,
   "id": "f629885f",
   "metadata": {},
   "outputs": [
    {
     "name": "stdout",
     "output_type": "stream",
     "text": [
      "X in: 1010101111100\n",
      "Y in: 1110100011010\n"
     ]
    }
   ],
   "source": [
    "circ, sv1, sv2 = swappingAmplitude(5500, 7450)"
   ]
  },
  {
   "cell_type": "code",
   "execution_count": 409,
   "id": "043ee11a",
   "metadata": {},
   "outputs": [
    {
     "data": {
      "image/png": "[encoded data removed]",
      "text/plain": [
       "<Figure size 1141.84x1120.39 with 1 Axes>"
      ]
     },
     "execution_count": 409,
     "metadata": {},
     "output_type": "execute_result"
    }
   ],
   "source": [
    "circ.draw('mpl')"
   ]
  },
  {
   "cell_type": "code",
   "execution_count": 410,
   "id": "4c5e6a9c",
   "metadata": {},
   "outputs": [
    {
     "name": "stdout",
     "output_type": "stream",
     "text": [
      "X Out:\n"
     ]
    },
    {
     "data": {
      "text/latex": [
       "$$ |0101100010111\\rangle$$"
      ],
      "text/plain": [
       "<IPython.core.display.Latex object>"
      ]
     },
     "execution_count": 410,
     "metadata": {},
     "output_type": "execute_result"
    }
   ],
   "source": [
    "print(\"X Out:\")\n",
    "sv1.draw('latex')"
   ]
  },
  {
   "cell_type": "code",
   "execution_count": 411,
   "id": "b3529c0a",
   "metadata": {},
   "outputs": [
    {
     "name": "stdout",
     "output_type": "stream",
     "text": [
      "Y Out:\n"
     ]
    },
    {
     "data": {
      "text/latex": [
       "$$ |0011111010101\\rangle$$"
      ],
      "text/plain": [
       "<IPython.core.display.Latex object>"
      ]
     },
     "execution_count": 411,
     "metadata": {},
     "output_type": "execute_result"
    }
   ],
   "source": [
    "print(\"Y Out:\")\n",
    "sv2.draw('latex')"
   ]
  }
 ],
 "metadata": {
  "kernelspec": {
   "display_name": "Python 3 (ipykernel)",
   "language": "python",
   "name": "python3"
  },
  "language_info": {
   "codemirror_mode": {
    "name": "ipython",
    "version": 3
   },
   "file_extension": ".py",
   "mimetype": "text/x-python",
   "name": "python",
   "nbconvert_exporter": "python",
   "pygments_lexer": "ipython3",
   "version": "3.11.4"
  }
 },
 "nbformat": 4,
 "nbformat_minor": 5
}
