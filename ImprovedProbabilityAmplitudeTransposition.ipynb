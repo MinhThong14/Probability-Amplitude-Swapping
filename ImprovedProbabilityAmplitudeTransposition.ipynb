{
 "cells": [
  {
   "cell_type": "markdown",
   "metadata": {},
   "source": [
    "# Probability Amplitude Swapping Implementation \n",
    "### Parallelized and Parameterized\n",
    "\n",
    "Date: Dec 20, 2023\n",
    "\n",
    "Algorithm Creator: Iain Burge\n",
    "\n",
    "Code Authors: Iain Burge (Used some of Tom Mai's Code as reference)\n",
    "\n",
    "Paper Authors: Iain Burge, Tom Mai, Michel Barbeau"
   ]
  },
  {
   "cell_type": "markdown",
   "metadata": {},
   "source": [
    "### Import Modules"
   ]
  },
  {
   "cell_type": "code",
   "execution_count": 60,
   "metadata": {},
   "outputs": [],
   "source": [
    "import numpy as np\n",
    "from qiskit import QuantumCircuit\n",
    "from qiskit.circuit.library import MCXGate\n",
    "from qiskit.quantum_info import Statevector"
   ]
  },
  {
   "cell_type": "markdown",
   "metadata": {},
   "source": [
    "### Define Variables"
   ]
  },
  {
   "cell_type": "code",
   "execution_count": 61,
   "metadata": {},
   "outputs": [],
   "source": [
    "x = 1\n",
    "y = 18 \n",
    "num_bits = 5\n",
    "\n",
    "if num_bits is None:\n",
    "    num_bits = int(np.ceil(np.log2(max(x, y))))\n",
    "m = int(np.ceil(np.log2(num_bits)))\n"
   ]
  },
  {
   "cell_type": "markdown",
   "metadata": {},
   "source": [
    "### Define $U_{i,j}$, $a_{i,j}$, $b_{i,j}$, and $c_i$ functions"
   ]
  },
  {
   "cell_type": "code",
   "execution_count": 62,
   "metadata": {},
   "outputs": [],
   "source": [
    "def bitsToString(value: int, nbits: int=None):\n",
    "    if nbits is None:\n",
    "        nbits = int(np.ceil(np.log2(value)))\n",
    "\n",
    "    return f\"{value:0>{nbits}b}\"\n",
    "\n",
    "def extractBit(bit: int, basis_state: int, \n",
    "        nbits: int = num_bits\n",
    "    ) -> int:\n",
    "    \"\"\"Leftmost bit is 0\"\"\"\n",
    "    return (basis_state & (1<<(nbits-bit-1))) >> (nbits-bit-1)\n",
    "\n",
    "def setBit(bit: int, value: int, basis_state: int, \n",
    "        nbits: int = num_bits\n",
    "    ) -> int:\n",
    "    \"\"\"Leftmost bit is 0\"\"\"\n",
    "    basis_state &= ~(1<<(nbits-bit-1))\n",
    "    basis_state ^= value * (1<<(nbits-bit-1))\n",
    "\n",
    "    return basis_state\n",
    "\n",
    "def calculateAB(i: int, j: int, x_i: int = x, y_i: int = y,\n",
    "        nbits: int = num_bits\n",
    "    ) -> tuple[bool, bool]:\n",
    "    top_bit     = (2**i) * (2*j)\n",
    "    bottom_bit  = (2**i) * (2*j + 1)\n",
    "\n",
    "    if bottom_bit >= num_bits:\n",
    "        return False, False\n",
    "    \n",
    "    a_ij =\\\n",
    "        extractBit(top_bit, x_i, nbits)    == extractBit(top_bit, y_i, nbits)\n",
    "    b_ij =\\\n",
    "        extractBit(bottom_bit, x_i, nbits) != extractBit(bottom_bit, y_i, nbits)\n",
    "\n",
    "    return a_ij, b_ij\n",
    "\n",
    "def calculateC(i: int, x_m: int, nbits: int = num_bits) -> bool:\n",
    "    return extractBit(i, x_m, nbits) == 0 \n",
    "\n",
    "def U(i: int, j: int, a_ij: bool, b_ij: bool, basis_state: int, \n",
    "        nbits: int = num_bits,\n",
    "    ) -> int:\n",
    "    top_bit    = (2**i) * (2*j)\n",
    "    bottom_bit = (2**i) * (2*j + 1)\n",
    "\n",
    "    if bottom_bit >= num_bits:\n",
    "        return basis_state\n",
    "\n",
    "    top_value    = extractBit(top_bit, basis_state, nbits=num_bits)\n",
    "    bottom_value = extractBit(bottom_bit, basis_state, nbits=num_bits)\n",
    "\n",
    "    if a_ij and b_ij:\n",
    "        top_value ^= bottom_value\n",
    "    if b_ij:\n",
    "        bottom_value ^= top_value\n",
    "    \n",
    "    basis_state = setBit(top_bit, top_value, basis_state, nbits)\n",
    "    basis_state = setBit(bottom_bit, bottom_value, basis_state, nbits)\n",
    "\n",
    "    return basis_state\n",
    "\n",
    "# test = 14\n",
    "# print(bitsToString(test, 8))\n",
    "# test = setBit(4, 0, 14, 8)\n",
    "# print(bitsToString(test, 8))\n",
    "# print(extractBit(0,test,8))\n"
   ]
  },
  {
   "cell_type": "markdown",
   "metadata": {},
   "source": [
    "### Calculate $a_{i,j}$, $b_{i,j}$, and $c_i$"
   ]
  },
  {
   "cell_type": "code",
   "execution_count": 63,
   "metadata": {},
   "outputs": [
    {
     "name": "stdout",
     "output_type": "stream",
     "text": [
      "a=[[False, True, False, False], [False, False], [False]]\n",
      "b=[[False, True, False, False], [True, False], [True]]\n",
      "c=[False, True, True, True, False]\n"
     ]
    }
   ],
   "source": [
    "x_i = x\n",
    "y_i = y\n",
    "a = []\n",
    "b = []\n",
    "c = []\n",
    "\n",
    "for i in range(m):\n",
    "    a.append([])\n",
    "    b.append([])\n",
    "\n",
    "    for j in range(2**(m-i-1)):\n",
    "        a_ij, b_ij = calculateAB(i, j, x_i, y_i, num_bits)\n",
    "        a[i].append(a_ij)\n",
    "        b[i].append(b_ij)\n",
    "\n",
    "        x_i = U(i, j, a_ij, b_ij, x_i, num_bits)\n",
    "        y_i = U(i, j, a_ij, b_ij, y_i, num_bits)\n",
    "\n",
    "c.append(False)\n",
    "for i in range(1, num_bits):\n",
    "    c.append(calculateC(i, x_m=x_i, nbits=num_bits))\n",
    "        \n",
    "\n",
    "print(f\"{a=}\")\n",
    "print(f\"{b=}\")\n",
    "print(f\"{c=}\")\n"
   ]
  },
  {
   "cell_type": "markdown",
   "metadata": {},
   "source": [
    "### Build the Circuit"
   ]
  },
  {
   "cell_type": "code",
   "execution_count": 64,
   "metadata": {},
   "outputs": [
    {
     "data": {
      "image/png": "[encoded data removed]",
      "text/plain": [
       "<Figure size 1541.66x451.5 with 1 Axes>"
      ]
     },
     "execution_count": 64,
     "metadata": {},
     "output_type": "execute_result"
    }
   ],
   "source": [
    "circuit = QuantumCircuit(num_bits)\n",
    "\n",
    "#Step 1:\n",
    "for i in range(m):\n",
    "    for j in range(2**(m-i-1)):\n",
    "        top_bit     = (2**i) * (2*j)\n",
    "        bottom_bit  = (2**i) * (2*j + 1)\n",
    "\n",
    "        if bottom_bit >= num_bits:\n",
    "            break\n",
    "\n",
    "        if a[i][j] and b[i][j]:\n",
    "            circuit.cx(bottom_bit, top_bit)\n",
    "        if b[i][j]:\n",
    "            circuit.cx(top_bit, bottom_bit)\n",
    "\n",
    "    circuit.barrier()\n",
    "\n",
    "#Step 2:\n",
    "for k in range(num_bits):\n",
    "    if c[k]:\n",
    "        circuit.x(k)\n",
    "\n",
    "circuit.append(\n",
    "    MCXGate(num_bits-1), \n",
    "    [k for k in range(1, num_bits)]+[0]\n",
    ")\n",
    "\n",
    "for k in range(num_bits):\n",
    "    if c[k]:\n",
    "        circuit.x(k)\n",
    "\n",
    "#Step 3:\n",
    "for i in range(m-1, -1, -1):\n",
    "    circuit.barrier()\n",
    "    for j in range(2**(m-i-1)):\n",
    "        top_bit     = (2**i) * (2*j)\n",
    "        bottom_bit  = (2**i) * (2*j + 1)\n",
    "\n",
    "        if bottom_bit >= num_bits:\n",
    "            break\n",
    "\n",
    "        if b[i][j]:\n",
    "            circuit.cx(top_bit, bottom_bit)\n",
    "        if a[i][j] and b[i][j]:\n",
    "            circuit.cx(bottom_bit, top_bit)\n",
    "\n",
    "\n",
    "circuit.draw(output=\"mpl\")"
   ]
  },
  {
   "cell_type": "markdown",
   "metadata": {},
   "source": [
    "### Testing"
   ]
  },
  {
   "cell_type": "code",
   "execution_count": 65,
   "metadata": {},
   "outputs": [
    {
     "name": "stdout",
     "output_type": "stream",
     "text": [
      "Initial: |00> =  |00000>\t->\tFinal: |00> =  |00000>\tId\n",
      "Initial: |01> =  |10000>\t->\tFinal: |18> =  |01001>\tModified\n",
      "Initial: |02> =  |01000>\t->\tFinal: |02> =  |01000>\tId\n",
      "Initial: |03> =  |11000>\t->\tFinal: |03> =  |11000>\tId\n",
      "Initial: |04> =  |00100>\t->\tFinal: |04> =  |00100>\tId\n",
      "Initial: |05> =  |10100>\t->\tFinal: |05> =  |10100>\tId\n",
      "Initial: |06> =  |01100>\t->\tFinal: |06> =  |01100>\tId\n",
      "Initial: |07> =  |11100>\t->\tFinal: |07> =  |11100>\tId\n",
      "Initial: |08> =  |00010>\t->\tFinal: |08> =  |00010>\tId\n",
      "Initial: |09> =  |10010>\t->\tFinal: |09> =  |10010>\tId\n",
      "Initial: |10> =  |01010>\t->\tFinal: |10> =  |01010>\tId\n",
      "Initial: |11> =  |11010>\t->\tFinal: |11> =  |11010>\tId\n",
      "Initial: |12> =  |00110>\t->\tFinal: |12> =  |00110>\tId\n",
      "Initial: |13> =  |10110>\t->\tFinal: |13> =  |10110>\tId\n",
      "Initial: |14> =  |01110>\t->\tFinal: |14> =  |01110>\tId\n",
      "Initial: |15> =  |11110>\t->\tFinal: |15> =  |11110>\tId\n",
      "Initial: |16> =  |00001>\t->\tFinal: |16> =  |00001>\tId\n",
      "Initial: |17> =  |10001>\t->\tFinal: |17> =  |10001>\tId\n",
      "Initial: |18> =  |01001>\t->\tFinal: |01> =  |10000>\tModified\n",
      "Initial: |19> =  |11001>\t->\tFinal: |19> =  |11001>\tId\n",
      "Initial: |20> =  |00101>\t->\tFinal: |20> =  |00101>\tId\n",
      "Initial: |21> =  |10101>\t->\tFinal: |21> =  |10101>\tId\n",
      "Initial: |22> =  |01101>\t->\tFinal: |22> =  |01101>\tId\n",
      "Initial: |23> =  |11101>\t->\tFinal: |23> =  |11101>\tId\n",
      "Initial: |24> =  |00011>\t->\tFinal: |24> =  |00011>\tId\n",
      "Initial: |25> =  |10011>\t->\tFinal: |25> =  |10011>\tId\n",
      "Initial: |26> =  |01011>\t->\tFinal: |26> =  |01011>\tId\n",
      "Initial: |27> =  |11011>\t->\tFinal: |27> =  |11011>\tId\n",
      "Initial: |28> =  |00111>\t->\tFinal: |28> =  |00111>\tId\n",
      "Initial: |29> =  |10111>\t->\tFinal: |29> =  |10111>\tId\n",
      "Initial: |30> =  |01111>\t->\tFinal: |30> =  |01111>\tId\n",
      "Initial: |31> =  |11111>\t->\tFinal: |31> =  |11111>\tId\n"
     ]
    }
   ],
   "source": [
    "for z in range(2**num_bits):\n",
    "    outputText = ''\n",
    "    bitString = bitsToString(z, num_bits)[::-1]\n",
    "\n",
    "    state = Statevector.from_label(bitString)\n",
    "    outputText += f\"Initial: |{z:>02}> = {state.draw('latex_source')}\"\n",
    "\n",
    "    state = state.evolve(circuit)\n",
    "\n",
    "    result = state.draw('latex_source')\n",
    "    result = ''.join(i for i in result if i.isdigit())\n",
    "    resultInt = int(f\"0b{result[::-1]}\", base=2)\n",
    "\n",
    "    outputText += f\"\\t->\\tFinal: |{resultInt:>02}> = {state.draw('latex_source')}\\t\"\n",
    "    outputText += \"Id\" if z == resultInt else \"Modified\"\n",
    "\n",
    "    #print results\n",
    "    print(outputText.replace(r'\\rangle', '>'))"
   ]
  }
 ],
 "metadata": {
  "kernelspec": {
   "display_name": "venvThesis",
   "language": "python",
   "name": "python3"
  },
  "language_info": {
   "codemirror_mode": {
    "name": "ipython",
    "version": 3
   },
   "file_extension": ".py",
   "mimetype": "text/x-python",
   "name": "python",
   "nbconvert_exporter": "python",
   "pygments_lexer": "ipython3",
   "version": "3.9.2"
  }
 },
 "nbformat": 4,
 "nbformat_minor": 2
}
