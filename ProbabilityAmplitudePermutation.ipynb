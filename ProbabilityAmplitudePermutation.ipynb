{
 "cells": [
  {
   "cell_type": "markdown",
   "metadata": {},
   "source": [
    "# Probability Amplitude Swapping Implementation \n",
    "### Parallelized and Parameterized\n",
    "\n",
    "Date: Dec 20, 2023\n",
    "\n",
    "Algorithm Creator: Iain Burge\n",
    "\n",
    "Code Authors: Iain Burge (Used some of Tom Mai's Code as reference)\n",
    "\n",
    "Paper Authors: Iain Burge, Tom Mai, Michel Barbeau"
   ]
  },
  {
   "cell_type": "markdown",
   "metadata": {},
   "source": [
    "### Import Modules"
   ]
  },
  {
   "cell_type": "code",
   "execution_count": 75,
   "metadata": {},
   "outputs": [],
   "source": [
    "import numpy as np\n",
    "from qiskit import QuantumCircuit\n",
    "from qiskit.circuit.library import MCXGate\n",
    "from qiskit.quantum_info import Statevector"
   ]
  },
  {
   "cell_type": "markdown",
   "metadata": {},
   "source": [
    "### Define Variables"
   ]
  },
  {
   "cell_type": "code",
   "execution_count": 76,
   "metadata": {},
   "outputs": [],
   "source": [
    "# x = 3\n",
    "# y = 113\n",
    "num_bits = 3\n",
    "\n",
    "# if num_bits is None:\n",
    "#     num_bits = int(np.ceil(np.log2(max(x, y))))\n",
    "m = int(np.ceil(np.log2(num_bits)))\n"
   ]
  },
  {
   "cell_type": "markdown",
   "metadata": {},
   "source": [
    "### Define $U_{i,j}$, $a_{i,j}$, $b_{i,j}$, and $c_i$ functions"
   ]
  },
  {
   "cell_type": "code",
   "execution_count": 77,
   "metadata": {},
   "outputs": [],
   "source": [
    "def bitsToString(value: int, nbits: int=None):\n",
    "    if nbits is None:\n",
    "        nbits = int(np.ceil(np.log2(value)))\n",
    "\n",
    "    return f\"{value:0>{nbits}b}\"\n",
    "\n",
    "def extractBit(bit: int, basis_state: int, \n",
    "        nbits: int = num_bits\n",
    "    ) -> int:\n",
    "    \"\"\"Leftmost bit is 0\"\"\"\n",
    "    return (basis_state & (1<<(nbits-bit-1))) >> (nbits-bit-1)\n",
    "\n",
    "def setBit(bit: int, value: int, basis_state: int, \n",
    "        nbits: int = num_bits\n",
    "    ) -> int:\n",
    "    \"\"\"Leftmost bit is 0\"\"\"\n",
    "    basis_state &= ~(1<<(nbits-bit-1))\n",
    "    basis_state ^= value * (1<<(nbits-bit-1))\n",
    "\n",
    "    return basis_state\n",
    "\n",
    "def calculateAB(i: int, j: int, x_i: int, y_i: int,\n",
    "        nbits: int = num_bits\n",
    "    ) -> tuple[bool, bool]:\n",
    "    top_bit     = (2**i) * (2*j)\n",
    "    bottom_bit  = (2**i) * (2*j + 1)\n",
    "\n",
    "    if bottom_bit >= num_bits:\n",
    "        return False, False\n",
    "    \n",
    "    a_ij =\\\n",
    "        extractBit(top_bit, x_i, nbits)    == extractBit(top_bit, y_i, nbits)\n",
    "    b_ij =\\\n",
    "        extractBit(bottom_bit, x_i, nbits) != extractBit(bottom_bit, y_i, nbits)\n",
    "\n",
    "    return a_ij, b_ij\n",
    "\n",
    "def calculateC(i: int, x_m: int, nbits: int = num_bits) -> bool:\n",
    "    return extractBit(i, x_m, nbits) == 0 \n",
    "\n",
    "def U(i: int, j: int, a_ij: bool, b_ij: bool, basis_state: int, \n",
    "        nbits: int = num_bits,\n",
    "    ) -> int:\n",
    "    top_bit    = (2**i) * (2*j)\n",
    "    bottom_bit = (2**i) * (2*j + 1)\n",
    "\n",
    "    if bottom_bit >= num_bits:\n",
    "        return basis_state\n",
    "\n",
    "    top_value    = extractBit(top_bit, basis_state, nbits=num_bits)\n",
    "    bottom_value = extractBit(bottom_bit, basis_state, nbits=num_bits)\n",
    "\n",
    "    if a_ij and b_ij:\n",
    "        top_value ^= bottom_value\n",
    "    if b_ij:\n",
    "        bottom_value ^= top_value\n",
    "    \n",
    "    basis_state = setBit(top_bit, top_value, basis_state, nbits)\n",
    "    basis_state = setBit(bottom_bit, bottom_value, basis_state, nbits)\n",
    "\n",
    "    return basis_state\n",
    "\n",
    "# test = 14\n",
    "# print(bitsToString(test, 8))\n",
    "# test = setBit(4, 0, 14, 8)\n",
    "# print(bitsToString(test, 8))\n",
    "# print(extractBit(0,test,8))\n"
   ]
  },
  {
   "cell_type": "markdown",
   "metadata": {},
   "source": [
    "### Calculate $a_{i,j}$, $b_{i,j}$, and $c_i$"
   ]
  },
  {
   "cell_type": "code",
   "execution_count": 78,
   "metadata": {},
   "outputs": [],
   "source": [
    "def calculateParams(x: int, y: int\n",
    "    ) -> tuple[list[list[bool]],list[list[bool]],list[bool]]:\n",
    "    x_i = x\n",
    "    y_i = y\n",
    "    a = []\n",
    "    b = []\n",
    "    c = []\n",
    "\n",
    "    for i in range(m):\n",
    "        a.append([])\n",
    "        b.append([])\n",
    "\n",
    "        for j in range(2**(m-i-1)):\n",
    "            a_ij, b_ij = calculateAB(i, j, x_i, y_i, num_bits)\n",
    "            a[i].append(a_ij)\n",
    "            b[i].append(b_ij)\n",
    "\n",
    "            x_i = U(i, j, a_ij, b_ij, x_i, num_bits)\n",
    "            y_i = U(i, j, a_ij, b_ij, y_i, num_bits)\n",
    "\n",
    "    c.append(False)\n",
    "    for i in range(1, num_bits):\n",
    "        c.append(calculateC(i, x_m=x_i, nbits=num_bits))\n",
    "            \n",
    "\n",
    "    print(f\"{(x,y)=}\")\n",
    "    print(f\"\\t{a=}\")\n",
    "    print(f\"\\t{b=}\")\n",
    "    print(f\"\\t{c=}\")\n",
    "\n",
    "    return a, b, c\n"
   ]
  },
  {
   "cell_type": "markdown",
   "metadata": {},
   "source": [
    "### Build the Circuit"
   ]
  },
  {
   "cell_type": "code",
   "execution_count": 79,
   "metadata": {},
   "outputs": [],
   "source": [
    "def transpositionGate(x: int, y:int) -> ...:\n",
    "    circuit = QuantumCircuit(num_bits, name=f\"{(x,y)}\")\n",
    "\n",
    "    a, b, c = calculateParams(x, y)\n",
    "\n",
    "    #Step 1:\n",
    "    for i in range(m):\n",
    "        for j in range(2**(m-i-1)):\n",
    "            top_bit     = (2**i) * (2*j)\n",
    "            bottom_bit  = (2**i) * (2*j + 1)\n",
    "\n",
    "            if bottom_bit >= num_bits:\n",
    "                break\n",
    "\n",
    "            if a[i][j] and b[i][j]:\n",
    "                circuit.cx(bottom_bit, top_bit)\n",
    "            if b[i][j]:\n",
    "                circuit.cx(top_bit, bottom_bit)\n",
    "\n",
    "        # circuit.barrier()\n",
    "\n",
    "    #Step 2:\n",
    "    for k in range(num_bits):\n",
    "        if c[k]:\n",
    "            circuit.x(k)\n",
    "\n",
    "    circuit.append(\n",
    "        MCXGate(num_bits-1), \n",
    "        [k for k in range(1, num_bits)]+[0]\n",
    "    )\n",
    "\n",
    "    for k in range(num_bits):\n",
    "        if c[k]:\n",
    "            circuit.x(k)\n",
    "\n",
    "    #Step 3:\n",
    "    for i in range(m-1, -1, -1):\n",
    "        # circuit.barrier()\n",
    "        for j in range(2**(m-i-1)):\n",
    "            top_bit     = (2**i) * (2*j)\n",
    "            bottom_bit  = (2**i) * (2*j + 1)\n",
    "\n",
    "            if bottom_bit >= num_bits:\n",
    "                break\n",
    "\n",
    "            if b[i][j]:\n",
    "                circuit.cx(top_bit, bottom_bit)\n",
    "            if a[i][j] and b[i][j]:\n",
    "                circuit.cx(bottom_bit, top_bit)\n",
    "\n",
    "\n",
    "    circuit.draw(output=\"mpl\")\n",
    "\n",
    "    return circuit.to_gate()"
   ]
  },
  {
   "cell_type": "markdown",
   "metadata": {},
   "source": [
    "### Full circuit"
   ]
  },
  {
   "cell_type": "code",
   "execution_count": 83,
   "metadata": {},
   "outputs": [
    {
     "name": "stdout",
     "output_type": "stream",
     "text": [
      "(x,y)=(2, 7)\n",
      "\ta=[[False, False], [False]]\n",
      "\tb=[[False, False], [True]]\n",
      "\tc=[False, False, True]\n",
      "(x,y)=(3, 5)\n",
      "\ta=[[False, False], [False]]\n",
      "\tb=[[True, False], [False]]\n",
      "\tc=[False, False, False]\n",
      "(x,y)=(4, 3)\n",
      "\ta=[[False, False], [False]]\n",
      "\tb=[[True, False], [True]]\n",
      "\tc=[False, False, False]\n",
      "(x,y)=(0, 4)\n",
      "\ta=[[False, False], [False]]\n",
      "\tb=[[False, False], [False]]\n",
      "\tc=[False, True, True]\n"
     ]
    },
    {
     "data": {
      "image/png": "[encoded data removed]",
      "text/plain": [
       "<Figure size 1040x284.278 with 1 Axes>"
      ]
     },
     "execution_count": 83,
     "metadata": {},
     "output_type": "execute_result"
    }
   ],
   "source": [
    "permutation = [(0,4), (4,3), (3,5), (2,7)]\n",
    "tempPerm = permutation.copy()\n",
    "\n",
    "circuit = QuantumCircuit(num_bits)\n",
    "while len(tempPerm) > 0:\n",
    "    x, y = tempPerm.pop()\n",
    "\n",
    "    circuit.append(transpositionGate(x, y), [0,1,2])\n",
    "    if len(tempPerm) > 0:\n",
    "        circuit.barrier()\n",
    "\n",
    "# circuit.draw(output='mpl')\n",
    "circuit.decompose().draw(output='mpl')"
   ]
  },
  {
   "cell_type": "markdown",
   "metadata": {},
   "source": [
    "### Testing"
   ]
  },
  {
   "cell_type": "code",
   "execution_count": 81,
   "metadata": {},
   "outputs": [
    {
     "name": "stdout",
     "output_type": "stream",
     "text": [
      "Initial: |00> =  |000>\t->\tFinal: |04> =  |001>\tModified\n",
      "Initial: |01> =  |100>\t->\tFinal: |06> =  |011>\tModified\n",
      "Initial: |02> =  |010>\t->\tFinal: |07> =  |111>\tModified\n",
      "Initial: |03> =  |110>\t->\tFinal: |05> =  |101>\tModified\n",
      "Initial: |04> =  |001>\t->\tFinal: |03> =  |110>\tModified\n",
      "Initial: |05> =  |101>\t->\tFinal: |00> =  |000>\tModified\n",
      "Initial: |06> =  |011>\t->\tFinal: |01> =  |100>\tModified\n",
      "Initial: |07> =  |111>\t->\tFinal: |02> =  |010>\tModified\n"
     ]
    }
   ],
   "source": [
    "for z in range(2**num_bits):\n",
    "    outputText = ''\n",
    "    bitString = bitsToString(z, num_bits)[::-1]\n",
    "\n",
    "    state = Statevector.from_label(bitString)\n",
    "    outputText += f\"Initial: |{z:>02}> = {state.draw('latex_source')}\"\n",
    "\n",
    "    state = state.evolve(circuit)\n",
    "\n",
    "    result = state.draw('latex_source')\n",
    "    result = ''.join(i for i in result if i.isdigit())\n",
    "    resultInt = int(f\"0b{result[::-1]}\", base=2)\n",
    "\n",
    "    outputText += f\"\\t->\\tFinal: |{resultInt:>02}> = {state.draw('latex_source')}\\t\"\n",
    "    outputText += \"Id\" if z == resultInt else \"Modified\"\n",
    "\n",
    "    #print results\n",
    "    print(outputText.replace(r'\\rangle', '>'))"
   ]
  }
 ],
 "metadata": {
  "kernelspec": {
   "display_name": "venvThesis",
   "language": "python",
   "name": "python3"
  },
  "language_info": {
   "codemirror_mode": {
    "name": "ipython",
    "version": 3
   },
   "file_extension": ".py",
   "mimetype": "text/x-python",
   "name": "python",
   "nbconvert_exporter": "python",
   "pygments_lexer": "ipython3",
   "version": "3.9.2"
  }
 },
 "nbformat": 4,
 "nbformat_minor": 2
}
