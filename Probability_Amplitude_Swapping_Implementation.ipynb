{
 "cells": [
  {
   "cell_type": "code",
   "execution_count": 331,
   "id": "d7c03395",
   "metadata": {},
   "outputs": [],
   "source": [
    "# Probability Amplitude Swapping Implementation\n",
    "# Date Dec 13, 2023\n",
    "# Code Author Tom Mai"
   ]
  },
  {
   "cell_type": "code",
   "execution_count": 332,
   "id": "bc87e031",
   "metadata": {},
   "outputs": [],
   "source": [
    "from qiskit import QuantumCircuit\n",
    "from qiskit.quantum_info import Statevector\n",
    "from qiskit.quantum_info import Statevector"
   ]
  },
  {
   "cell_type": "code",
   "execution_count": 333,
   "id": "f04dd2a2",
   "metadata": {},
   "outputs": [],
   "source": [
    "# Count number of bits of a number\n",
    "def numBits(num):\n",
    "    count = 0\n",
    "    while num:\n",
    "        count += 1\n",
    "        num >>= 1\n",
    "    return count"
   ]
  },
  {
   "cell_type": "code",
   "execution_count": 334,
   "id": "29c80e24",
   "metadata": {},
   "outputs": [],
   "source": [
    "# Find the maximum lenght of bitstring\n",
    "def maxNumBits(x, y):\n",
    "    return max(numBits(x), numBits(y))"
   ]
  },
  {
   "cell_type": "code",
   "execution_count": 335,
   "id": "e79c71ac",
   "metadata": {},
   "outputs": [],
   "source": [
    "# Find the first different bit between x and y (x != y)\n",
    "def diffIndx(x, y) :\n",
    "    # find max bits\n",
    "    maxBitCount = maxNumBits(x, y)\n",
    "    \n",
    "    #find first left most different bit\n",
    "    for i in range(maxBitCount-1, -1, -1):\n",
    "        if (x & (1 << i)) ^ (y & (1 << i)) != 0:\n",
    "            return maxBitCount - i - 1\n"
   ]
  },
  {
   "cell_type": "code",
   "execution_count": 336,
   "id": "2fab45d6",
   "metadata": {},
   "outputs": [],
   "source": [
    "# Check if there is jth bit from the right most of bitstring\n",
    "def getBit(num, i):\n",
    "    return num & (1<<i)"
   ]
  },
  {
   "cell_type": "code",
   "execution_count": 337,
   "id": "1108ab64",
   "metadata": {},
   "outputs": [],
   "source": [
    "# Flip the ith bit from the right most of bitstring\n",
    "def flipBit(num,j):\n",
    "    return num ^ (1 << j)\n",
    "    "
   ]
  },
  {
   "cell_type": "code",
   "execution_count": 338,
   "id": "fbd4000c",
   "metadata": {},
   "outputs": [],
   "source": [
    "# Adding leading zeros to a bistring to fit with n number of bits\n",
    "def extendBitString(stringX, numBit):\n",
    "    return stringX.zfill(numBit)"
   ]
  },
  {
   "cell_type": "code",
   "execution_count": 339,
   "id": "326ecf9d",
   "metadata": {},
   "outputs": [],
   "source": [
    "# Initialize 2 numbers x, y\n",
    "x = 7\n",
    "y = 99"
   ]
  },
  {
   "cell_type": "code",
   "execution_count": 340,
   "id": "f50f4a9f",
   "metadata": {},
   "outputs": [
    {
     "name": "stdout",
     "output_type": "stream",
     "text": [
      "7\n"
     ]
    }
   ],
   "source": [
    "# The number of qubit is the length of the longest bitstring among 2 numbers\n",
    "n = maxNumBits(x, y)\n",
    "print(n)"
   ]
  },
  {
   "cell_type": "code",
   "execution_count": 341,
   "id": "1d44f6fa",
   "metadata": {},
   "outputs": [
    {
     "name": "stdout",
     "output_type": "stream",
     "text": [
      "111\n"
     ]
    }
   ],
   "source": [
    "# Get the bitstring format of x\n",
    "bitStringX = \"{0:b}\".format(x)\n",
    "print(bitStringX)"
   ]
  },
  {
   "cell_type": "code",
   "execution_count": 342,
   "id": "6e171716",
   "metadata": {},
   "outputs": [
    {
     "name": "stdout",
     "output_type": "stream",
     "text": [
      "1100011\n"
     ]
    }
   ],
   "source": [
    "# Get the bitstring format of y\n",
    "bitStringY = \"{0:b}\".format(y)\n",
    "print(bitStringY)"
   ]
  },
  {
   "cell_type": "code",
   "execution_count": 343,
   "id": "5503379a",
   "metadata": {},
   "outputs": [
    {
     "name": "stdout",
     "output_type": "stream",
     "text": [
      "0000111\n",
      "1100011\n"
     ]
    }
   ],
   "source": [
    "# Matching the bit string length\n",
    "if numBits(x) > numBits(y):\n",
    "    bitStringY = extendBitString(bitStringY, n)\n",
    "elif numBits(x) < numBits(y):\n",
    "    bitStringX = extendBitString(bitStringX, n)\n",
    "\n",
    "print(bitStringX)\n",
    "print(bitStringY)"
   ]
  },
  {
   "cell_type": "code",
   "execution_count": 344,
   "id": "2be854ba",
   "metadata": {},
   "outputs": [],
   "source": [
    "# Create quantum circuit acting on a quantum register of n qubits\n",
    "circ = QuantumCircuit(n)"
   ]
  },
  {
   "cell_type": "code",
   "execution_count": 345,
   "id": "b8c9e167",
   "metadata": {},
   "outputs": [
    {
     "name": "stdout",
     "output_type": "stream",
     "text": [
      "0\n"
     ]
    }
   ],
   "source": [
    "# Find the position of the first different bit between 2 bitstrings from left to right\n",
    "i = diffIndx(x, y)\n",
    "print(i)"
   ]
  },
  {
   "cell_type": "code",
   "execution_count": 346,
   "id": "1e636675",
   "metadata": {},
   "outputs": [],
   "source": [
    "# Create an array of different bits between x and y after the ith bit\n",
    "diffBits = []"
   ]
  },
  {
   "cell_type": "code",
   "execution_count": 347,
   "id": "df0cc8e8",
   "metadata": {},
   "outputs": [],
   "source": [
    "# Create an array of 0 bit after the ith bit after apply CNOT gate\n",
    "zeroBits = []"
   ]
  },
  {
   "cell_type": "code",
   "execution_count": 348,
   "id": "a7839299",
   "metadata": {},
   "outputs": [
    {
     "data": {
      "text/latex": [
       "$$ |1110000\\rangle$$"
      ],
      "text/plain": [
       "<IPython.core.display.Latex object>"
      ]
     },
     "execution_count": 348,
     "metadata": {},
     "output_type": "execute_result"
    }
   ],
   "source": [
    "# Create first quantum state\n",
    "sv1 = Statevector.from_label(bitStringX[::-1])\n",
    "sv1.draw('latex')"
   ]
  },
  {
   "cell_type": "code",
   "execution_count": 349,
   "id": "40da2fa5",
   "metadata": {},
   "outputs": [
    {
     "data": {
      "text/latex": [
       "$$ |1100011\\rangle$$"
      ],
      "text/plain": [
       "<IPython.core.display.Latex object>"
      ]
     },
     "execution_count": 349,
     "metadata": {},
     "output_type": "execute_result"
    }
   ],
   "source": [
    "# Create second quantum state\n",
    "sv2 = Statevector.from_label(bitStringY[::-1])\n",
    "sv2.draw('latex')"
   ]
  },
  {
   "cell_type": "code",
   "execution_count": 350,
   "id": "487c48e3",
   "metadata": {},
   "outputs": [],
   "source": [
    "# sv3 = Statevector.from_label(\"1111\")\n",
    "# sv3.draw('latex')"
   ]
  },
  {
   "cell_type": "code",
   "execution_count": 351,
   "id": "cd6c5eb4",
   "metadata": {},
   "outputs": [],
   "source": [
    "# Step 1 applying CNOT gate to every different bits between 2 bitstrings from i to n\n",
    "for j in range(n-1, i, -1):\n",
    "#     If jth bit of x and y is different\n",
    "#     then apply CNOT gate from i to j\n",
    "    if getBit(x, n-j-1) != getBit(y, n-j-1):\n",
    "#         Adding j to array of different bits\n",
    "        diffBits.append(j)\n",
    "#         Add CNOT gate to the circuit\n",
    "        circ.cx(i, j)\n",
    "        circ.barrier()\n",
    "#         Flip the bit conresponding to CNOT gate in bitstring of x and y the make use in the next operations\n",
    "        if getBit(x, n-i-1) != 0:\n",
    "            x = flipBit(x, n-j-1)\n",
    "        if getBit(y, n-i-1) != 0:\n",
    "            y = flipBit(y, n-j-1)\n",
    "\n",
    "            "
   ]
  },
  {
   "cell_type": "code",
   "execution_count": 352,
   "id": "4a997607",
   "metadata": {},
   "outputs": [
    {
     "data": {
      "image/png": "[encoded data removed]",
      "text/plain": [
       "<Figure size 454.719x618.722 with 1 Axes>"
      ]
     },
     "execution_count": 352,
     "metadata": {},
     "output_type": "execute_result"
    }
   ],
   "source": [
    "# Draw circuit\n",
    "circ.draw('mpl')"
   ]
  },
  {
   "cell_type": "code",
   "execution_count": 353,
   "id": "d23a1f4d",
   "metadata": {},
   "outputs": [
    {
     "name": "stdout",
     "output_type": "stream",
     "text": [
      "111\n"
     ]
    }
   ],
   "source": [
    "print(\"{0:b}\".format(x))"
   ]
  },
  {
   "cell_type": "code",
   "execution_count": 354,
   "id": "71b78244",
   "metadata": {},
   "outputs": [
    {
     "name": "stdout",
     "output_type": "stream",
     "text": [
      "1000111\n"
     ]
    }
   ],
   "source": [
    "print(\"{0:b}\".format(y))"
   ]
  },
  {
   "cell_type": "code",
   "execution_count": 355,
   "id": "a3555696",
   "metadata": {},
   "outputs": [],
   "source": [
    "# Step 2.1 applying NOT gate to bits from i to n that different from i bit\n",
    "for w in range(i+1, n):\n",
    "#     If there is not bit in the wth position of bitstrings then applying NOT gate to flip the bit \n",
    "    if getBit(x, n-w-1) == 0:\n",
    "#         Adding w to array of 0 bits after ith bit\n",
    "        zeroBits.append(w)\n",
    "#         Adding NOT gate at wth bit\n",
    "        circ.x(w)\n",
    "#         Flip the bit conresponding to NOT gate in bitstring of x and y the make use in the next operations\n",
    "        x = flipBit(x, n-w-1)\n",
    "        y = flipBit(y, n-w-1)"
   ]
  },
  {
   "cell_type": "code",
   "execution_count": 356,
   "id": "be154777",
   "metadata": {},
   "outputs": [
    {
     "data": {
      "image/png": "[encoded data removed]",
      "text/plain": [
       "<Figure size 538.33x618.722 with 1 Axes>"
      ]
     },
     "execution_count": 356,
     "metadata": {},
     "output_type": "execute_result"
    }
   ],
   "source": [
    "circ.draw('mpl')"
   ]
  },
  {
   "cell_type": "code",
   "execution_count": 357,
   "id": "6cd3540b",
   "metadata": {},
   "outputs": [
    {
     "name": "stdout",
     "output_type": "stream",
     "text": [
      "111111\n"
     ]
    }
   ],
   "source": [
    "print(\"{0:b}\".format(x))"
   ]
  },
  {
   "cell_type": "code",
   "execution_count": 358,
   "id": "5fa30920",
   "metadata": {},
   "outputs": [
    {
     "name": "stdout",
     "output_type": "stream",
     "text": [
      "1111111\n"
     ]
    }
   ],
   "source": [
    "print(\"{0:b}\".format(y))"
   ]
  },
  {
   "cell_type": "code",
   "execution_count": 359,
   "id": "4a8b15ad",
   "metadata": {},
   "outputs": [],
   "source": [
    "# Create list of index in control bits\n",
    "controls = []\n",
    "for g in range(n):\n",
    "    if g != i:\n",
    "        controls.append(g)"
   ]
  },
  {
   "cell_type": "code",
   "execution_count": 360,
   "id": "508ffafa",
   "metadata": {},
   "outputs": [
    {
     "data": {
      "text/plain": [
       "<qiskit.circuit.instructionset.InstructionSet at 0x157cd5ea0>"
      ]
     },
     "execution_count": 360,
     "metadata": {},
     "output_type": "execute_result"
    }
   ],
   "source": [
    "# Step 2.2 applying MCX gate from control bits to i\n",
    "circ.mcx(controls, i)"
   ]
  },
  {
   "cell_type": "code",
   "execution_count": 361,
   "id": "e1f51d7e",
   "metadata": {},
   "outputs": [
    {
     "data": {
      "image/png": "[encoded data removed]",
      "text/plain": [
       "<Figure size 621.941x618.722 with 1 Axes>"
      ]
     },
     "execution_count": 361,
     "metadata": {},
     "output_type": "execute_result"
    }
   ],
   "source": [
    "circ.draw('mpl')"
   ]
  },
  {
   "cell_type": "code",
   "execution_count": 362,
   "id": "0697c01a",
   "metadata": {},
   "outputs": [],
   "source": [
    "# Flip the ith bit if control bits is 1\n",
    "if (getBit(x, i+1) != 0):\n",
    "    x = flipBit(x, n-i-1)\n",
    "    y = flipBit(y, n-i-1)"
   ]
  },
  {
   "cell_type": "code",
   "execution_count": 363,
   "id": "4fbb76c9",
   "metadata": {},
   "outputs": [
    {
     "name": "stdout",
     "output_type": "stream",
     "text": [
      "1111111\n"
     ]
    }
   ],
   "source": [
    "print(\"{0:b}\".format(x))"
   ]
  },
  {
   "cell_type": "code",
   "execution_count": 364,
   "id": "12cd078d",
   "metadata": {},
   "outputs": [
    {
     "name": "stdout",
     "output_type": "stream",
     "text": [
      "111111\n"
     ]
    }
   ],
   "source": [
    "print(\"{0:b}\".format(y))"
   ]
  },
  {
   "cell_type": "code",
   "execution_count": 365,
   "id": "b0e862e9",
   "metadata": {},
   "outputs": [],
   "source": [
    "# Step 3.1 repeating Step 2.1\n",
    "for l in zeroBits:\n",
    "    circ.x(l)\n",
    "# Flip the bit conresponding to NOT gate in bitstring of x and y to make use in the next operations\n",
    "    x = flipBit(x, n-l-1)\n",
    "    y = flipBit(y, n-l-1)"
   ]
  },
  {
   "cell_type": "code",
   "execution_count": 366,
   "id": "393244cd",
   "metadata": {},
   "outputs": [
    {
     "name": "stdout",
     "output_type": "stream",
     "text": [
      "1000111\n"
     ]
    }
   ],
   "source": [
    "print(\"{0:b}\".format(x))"
   ]
  },
  {
   "cell_type": "code",
   "execution_count": 367,
   "id": "49493513",
   "metadata": {},
   "outputs": [
    {
     "name": "stdout",
     "output_type": "stream",
     "text": [
      "111\n"
     ]
    }
   ],
   "source": [
    "print(\"{0:b}\".format(y))"
   ]
  },
  {
   "cell_type": "code",
   "execution_count": 368,
   "id": "19adb5de",
   "metadata": {},
   "outputs": [
    {
     "data": {
      "image/png": "[encoded data removed]",
      "text/plain": [
       "<Figure size 705.552x618.722 with 1 Axes>"
      ]
     },
     "execution_count": 368,
     "metadata": {},
     "output_type": "execute_result"
    }
   ],
   "source": [
    "circ.draw('mpl')"
   ]
  },
  {
   "cell_type": "code",
   "execution_count": 369,
   "id": "9d304152",
   "metadata": {},
   "outputs": [],
   "source": [
    "# Step 3.2 repeating Step 1\n",
    "for g in diffBits[::-1]:\n",
    "    circ.barrier()\n",
    "    circ.cx(i, g)\n",
    "    if getBit(x, n-i-1) != 0:\n",
    "        x = flipBit(x, n-g-1)\n",
    "    if getBit(y, n-i-1) != 0:\n",
    "        y = flipBit(y, n-g-1)\n",
    "    "
   ]
  },
  {
   "cell_type": "code",
   "execution_count": 370,
   "id": "fb1f0780",
   "metadata": {},
   "outputs": [
    {
     "name": "stdout",
     "output_type": "stream",
     "text": [
      "1100011\n"
     ]
    }
   ],
   "source": [
    "print(\"{0:b}\".format(x))"
   ]
  },
  {
   "cell_type": "code",
   "execution_count": 371,
   "id": "3af53845",
   "metadata": {},
   "outputs": [
    {
     "name": "stdout",
     "output_type": "stream",
     "text": [
      "111\n"
     ]
    }
   ],
   "source": [
    "print(\"{0:b}\".format(y))"
   ]
  },
  {
   "cell_type": "code",
   "execution_count": 372,
   "id": "44221320",
   "metadata": {},
   "outputs": [
    {
     "data": {
      "image/png": "[encoded data removed]",
      "text/plain": [
       "<Figure size 1040x618.722 with 1 Axes>"
      ]
     },
     "execution_count": 372,
     "metadata": {},
     "output_type": "execute_result"
    }
   ],
   "source": [
    "circ.draw('mpl')"
   ]
  },
  {
   "cell_type": "code",
   "execution_count": 373,
   "id": "ac4dae27",
   "metadata": {},
   "outputs": [
    {
     "name": "stdout",
     "output_type": "stream",
     "text": [
      "In\n"
     ]
    },
    {
     "data": {
      "text/latex": [
       "$$ |1110000\\rangle$$"
      ],
      "text/plain": [
       "<IPython.core.display.Latex object>"
      ]
     },
     "execution_count": 373,
     "metadata": {},
     "output_type": "execute_result"
    }
   ],
   "source": [
    "print('In')\n",
    "sv1.draw('latex')"
   ]
  },
  {
   "cell_type": "code",
   "execution_count": 374,
   "id": "da24f61a",
   "metadata": {},
   "outputs": [
    {
     "name": "stdout",
     "output_type": "stream",
     "text": [
      "Out\n"
     ]
    },
    {
     "data": {
      "text/latex": [
       "$$ |1100011\\rangle$$"
      ],
      "text/plain": [
       "<IPython.core.display.Latex object>"
      ]
     },
     "execution_count": 374,
     "metadata": {},
     "output_type": "execute_result"
    }
   ],
   "source": [
    "# Applying the circuit to the first quantum state\n",
    "sv1_new = sv1.evolve(circ)\n",
    "print('Out')\n",
    "sv1_new.draw('latex')"
   ]
  },
  {
   "cell_type": "code",
   "execution_count": 375,
   "id": "6b17bbf2",
   "metadata": {},
   "outputs": [
    {
     "name": "stdout",
     "output_type": "stream",
     "text": [
      "In\n"
     ]
    },
    {
     "data": {
      "text/latex": [
       "$$ |1100011\\rangle$$"
      ],
      "text/plain": [
       "<IPython.core.display.Latex object>"
      ]
     },
     "execution_count": 375,
     "metadata": {},
     "output_type": "execute_result"
    }
   ],
   "source": [
    "print('In')\n",
    "sv2.draw('latex')"
   ]
  },
  {
   "cell_type": "code",
   "execution_count": 376,
   "id": "bfcf2c42",
   "metadata": {},
   "outputs": [
    {
     "name": "stdout",
     "output_type": "stream",
     "text": [
      "Out\n"
     ]
    },
    {
     "data": {
      "text/latex": [
       "$$ |1110000\\rangle$$"
      ],
      "text/plain": [
       "<IPython.core.display.Latex object>"
      ]
     },
     "execution_count": 376,
     "metadata": {},
     "output_type": "execute_result"
    }
   ],
   "source": [
    "# Applying the circuit to the second quantum state\n",
    "sv2_new = sv2.evolve(circ)\n",
    "print('Out')\n",
    "sv2_new.draw('latex')"
   ]
  },
  {
   "cell_type": "code",
   "execution_count": 377,
   "id": "d4d57f7c",
   "metadata": {},
   "outputs": [],
   "source": [
    "# sv3 = sv3.evolve(circ)\n",
    "# sv3.draw('latex')"
   ]
  }
 ],
 "metadata": {
  "kernelspec": {
   "display_name": "Python 3 (ipykernel)",
   "language": "python",
   "name": "python3"
  },
  "language_info": {
   "codemirror_mode": {
    "name": "ipython",
    "version": 3
   },
   "file_extension": ".py",
   "mimetype": "text/x-python",
   "name": "python",
   "nbconvert_exporter": "python",
   "pygments_lexer": "ipython3",
   "version": "3.11.4"
  }
 },
 "nbformat": 4,
 "nbformat_minor": 5
}
