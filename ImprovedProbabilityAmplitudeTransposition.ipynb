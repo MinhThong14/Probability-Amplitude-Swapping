{
 "cells": [
  {
   "cell_type": "markdown",
   "metadata": {},
   "source": [
    "# Probability Amplitude Swapping Implementation \n",
    "### Parallelized and Parameterized\n",
    "\n",
    "Date: Dec 20, 2023\n",
    "\n",
    "Algorithm Creator: Iain Burge\n",
    "\n",
    "Code Authors: Iain Burge (Used some of Tom Mai's Code as reference)\n",
    "\n",
    "Paper Authors: Iain Burge, Tom Mai, Michel Barbeau"
   ]
  },
  {
   "cell_type": "markdown",
   "metadata": {},
   "source": [
    "### Import Modules"
   ]
  },
  {
   "cell_type": "code",
   "execution_count": 1,
   "metadata": {},
   "outputs": [],
   "source": [
    "import numpy as np\n",
    "from qiskit import QuantumCircuit\n",
    "from qiskit.circuit.library import MCXGate\n",
    "from qiskit.quantum_info import Statevector"
   ]
  },
  {
   "cell_type": "markdown",
   "metadata": {},
   "source": [
    "### Define Variables"
   ]
  },
  {
   "cell_type": "code",
   "execution_count": 2,
   "metadata": {},
   "outputs": [],
   "source": [
    "x = 10\n",
    "y = 13\n",
    "num_bits = 4\n",
    "\n",
    "if num_bits is None:\n",
    "    num_bits = int(np.ceil(np.log2(max(x, y))))\n",
    "m = int(np.ceil(np.log2(num_bits)))\n"
   ]
  },
  {
   "cell_type": "markdown",
   "metadata": {},
   "source": [
    "### Define $U_{i,j}$, $a_{i,j}$, $b_{i,j}$, and $c_i$ functions"
   ]
  },
  {
   "cell_type": "code",
   "execution_count": 3,
   "metadata": {},
   "outputs": [],
   "source": [
    "def bitsToString(value: int, nbits: int=None):\n",
    "    if nbits is None:\n",
    "        nbits = int(np.ceil(np.log2(value)))\n",
    "\n",
    "    return f\"{value:0>{nbits}b}\"\n",
    "\n",
    "def extractBit(bit: int, basis_state: int, \n",
    "        nbits: int = num_bits\n",
    "    ) -> int:\n",
    "    \"\"\"Leftmost bit is 0\"\"\"\n",
    "    return (basis_state & (1<<(nbits-bit-1))) >> (nbits-bit-1)\n",
    "\n",
    "def setBit(bit: int, value: int, basis_state: int, \n",
    "        nbits: int = num_bits\n",
    "    ) -> int:\n",
    "    \"\"\"Leftmost bit is 0\"\"\"\n",
    "    basis_state &= ~(1<<(nbits-bit-1))\n",
    "    basis_state ^= value * (1<<(nbits-bit-1))\n",
    "\n",
    "    return basis_state\n",
    "\n",
    "def calculateAB(i: int, j: int, x_i: int = x, y_i: int = y,\n",
    "        nbits: int = num_bits\n",
    "    ) -> tuple[bool, bool]:\n",
    "    top_bit     = (2**i) * (2*j)\n",
    "    bottom_bit  = (2**i) * (2*j + 1)\n",
    "\n",
    "    if bottom_bit >= num_bits:\n",
    "        return False, False\n",
    "    \n",
    "    a_ij =\\\n",
    "        extractBit(top_bit, x_i, nbits)    == extractBit(top_bit, y_i, nbits)\n",
    "    b_ij =\\\n",
    "        extractBit(bottom_bit, x_i, nbits) != extractBit(bottom_bit, y_i, nbits)\n",
    "\n",
    "    return a_ij, b_ij\n",
    "\n",
    "def calculateC(i: int, x_m: int, nbits: int = num_bits) -> bool:\n",
    "    return extractBit(i, x_m, nbits) == 0 \n",
    "\n",
    "def U(i: int, j: int, a_ij: bool, b_ij: bool, basis_state: int, \n",
    "        nbits: int = num_bits,\n",
    "    ) -> int:\n",
    "    top_bit    = (2**i) * (2*j)\n",
    "    bottom_bit = (2**i) * (2*j + 1)\n",
    "\n",
    "    if bottom_bit >= num_bits:\n",
    "        return basis_state\n",
    "\n",
    "    top_value    = extractBit(top_bit, basis_state, nbits=num_bits)\n",
    "    bottom_value = extractBit(bottom_bit, basis_state, nbits=num_bits)\n",
    "\n",
    "    if a_ij and b_ij:\n",
    "        top_value ^= bottom_value\n",
    "    if b_ij:\n",
    "        bottom_value ^= top_value\n",
    "    \n",
    "    basis_state = setBit(top_bit, top_value, basis_state, nbits)\n",
    "    basis_state = setBit(bottom_bit, bottom_value, basis_state, nbits)\n",
    "\n",
    "    return basis_state\n",
    "\n",
    "# test = 14\n",
    "# print(bitsToString(test, 8))\n",
    "# test = setBit(4, 0, 14, 8)\n",
    "# print(bitsToString(test, 8))\n",
    "# print(extractBit(0,test,8))\n"
   ]
  },
  {
   "cell_type": "markdown",
   "metadata": {},
   "source": [
    "### Calculate $a_{i,j}$, $b_{i,j}$, and $c_i$"
   ]
  },
  {
   "cell_type": "code",
   "execution_count": 4,
   "metadata": {},
   "outputs": [
    {
     "name": "stdout",
     "output_type": "stream",
     "text": [
      "a=[[True, False, False, False], [True, False], [False]]\n",
      "b=[[False, True, False, False], [True, False], [True]]\n",
      "c=[False, False, True, False, True]\n"
     ]
    }
   ],
   "source": [
    "x_i = x\n",
    "y_i = y\n",
    "a = []\n",
    "b = []\n",
    "c = []\n",
    "\n",
    "for i in range(m):\n",
    "    a.append([])\n",
    "    b.append([])\n",
    "\n",
    "    for j in range(2**(m-i-1)):\n",
    "        a_ij, b_ij = calculateAB(i, j, x_i, y_i, num_bits)\n",
    "        a[i].append(a_ij)\n",
    "        b[i].append(b_ij)\n",
    "\n",
    "        x_i = U(i, j, a_ij, b_ij, x_i, num_bits)\n",
    "        y_i = U(i, j, a_ij, b_ij, y_i, num_bits)\n",
    "\n",
    "c.append(False)\n",
    "for i in range(1, num_bits):\n",
    "    c.append(calculateC(i, x_m=x_i, nbits=num_bits))\n",
    "        \n",
    "\n",
    "print(f\"{a=}\")\n",
    "print(f\"{b=}\")\n",
    "print(f\"{c=}\")\n"
   ]
  },
  {
   "cell_type": "markdown",
   "metadata": {},
   "source": [
    "### Build the Circuit"
   ]
  },
  {
   "cell_type": "code",
   "execution_count": 5,
   "metadata": {},
   "outputs": [
    {
     "ename": "CircuitError",
     "evalue": "'Index 5 out of range for size 5.'",
     "output_type": "error",
     "traceback": [
      "\u001b[1;31m---------------------------------------------------------------------------\u001b[0m",
      "\u001b[1;31mIndexError\u001b[0m                                Traceback (most recent call last)",
      "\u001b[1;32mc:\\Users\\iain\\Documents\\University\\Thesis\\git\\QML_Thesis\\venvThesis\\lib\\site-packages\\qiskit\\circuit\\quantumcircuit.py\u001b[0m in \u001b[0;36m_bit_argument_conversion\u001b[1;34m(specifier, bit_sequence, bit_set, type_)\u001b[0m\n\u001b[0;32m   4909\u001b[0m         \u001b[1;32mtry\u001b[0m\u001b[1;33m:\u001b[0m\u001b[1;33m\u001b[0m\u001b[1;33m\u001b[0m\u001b[0m\n\u001b[1;32m-> 4910\u001b[1;33m             \u001b[1;32mreturn\u001b[0m \u001b[1;33m[\u001b[0m\u001b[0mbit_sequence\u001b[0m\u001b[1;33m[\u001b[0m\u001b[0mspecifier\u001b[0m\u001b[1;33m]\u001b[0m\u001b[1;33m]\u001b[0m\u001b[1;33m\u001b[0m\u001b[1;33m\u001b[0m\u001b[0m\n\u001b[0m\u001b[0;32m   4911\u001b[0m         \u001b[1;32mexcept\u001b[0m \u001b[0mIndexError\u001b[0m \u001b[1;32mas\u001b[0m \u001b[0mex\u001b[0m\u001b[1;33m:\u001b[0m\u001b[1;33m\u001b[0m\u001b[1;33m\u001b[0m\u001b[0m\n",
      "\u001b[1;31mIndexError\u001b[0m: list index out of range",
      "\nThe above exception was the direct cause of the following exception:\n",
      "\u001b[1;31mCircuitError\u001b[0m                              Traceback (most recent call last)",
      "\u001b[1;32m~\\AppData\\Local\\Temp/ipykernel_12124/3712020903.py\u001b[0m in \u001b[0;36m<module>\u001b[1;34m\u001b[0m\n\u001b[0;32m     22\u001b[0m         \u001b[0mcircuit\u001b[0m\u001b[1;33m.\u001b[0m\u001b[0mx\u001b[0m\u001b[1;33m(\u001b[0m\u001b[0mk\u001b[0m\u001b[1;33m)\u001b[0m\u001b[1;33m\u001b[0m\u001b[1;33m\u001b[0m\u001b[0m\n\u001b[0;32m     23\u001b[0m \u001b[1;33m\u001b[0m\u001b[0m\n\u001b[1;32m---> 24\u001b[1;33m circuit.append(\n\u001b[0m\u001b[0;32m     25\u001b[0m     \u001b[0mMCXGate\u001b[0m\u001b[1;33m(\u001b[0m\u001b[0mnum_bits\u001b[0m\u001b[1;33m-\u001b[0m\u001b[1;36m1\u001b[0m\u001b[1;33m)\u001b[0m\u001b[1;33m,\u001b[0m\u001b[1;33m\u001b[0m\u001b[1;33m\u001b[0m\u001b[0m\n\u001b[0;32m     26\u001b[0m     \u001b[1;33m[\u001b[0m\u001b[0mk\u001b[0m \u001b[1;32mfor\u001b[0m \u001b[0mk\u001b[0m \u001b[1;32min\u001b[0m \u001b[0mrange\u001b[0m\u001b[1;33m(\u001b[0m\u001b[1;36m1\u001b[0m\u001b[1;33m,\u001b[0m \u001b[1;36m2\u001b[0m\u001b[1;33m**\u001b[0m\u001b[0mm\u001b[0m\u001b[1;33m)\u001b[0m\u001b[1;33m]\u001b[0m\u001b[1;33m+\u001b[0m\u001b[1;33m[\u001b[0m\u001b[1;36m0\u001b[0m\u001b[1;33m]\u001b[0m\u001b[1;33m\u001b[0m\u001b[1;33m\u001b[0m\u001b[0m\n",
      "\u001b[1;32mc:\\Users\\iain\\Documents\\University\\Thesis\\git\\QML_Thesis\\venvThesis\\lib\\site-packages\\qiskit\\circuit\\quantumcircuit.py\u001b[0m in \u001b[0;36mappend\u001b[1;34m(self, instruction, qargs, cargs)\u001b[0m\n\u001b[0;32m   1267\u001b[0m                 \u001b[0moperation\u001b[0m \u001b[1;33m=\u001b[0m \u001b[0mcopy\u001b[0m\u001b[1;33m.\u001b[0m\u001b[0mdeepcopy\u001b[0m\u001b[1;33m(\u001b[0m\u001b[0moperation\u001b[0m\u001b[1;33m)\u001b[0m\u001b[1;33m\u001b[0m\u001b[1;33m\u001b[0m\u001b[0m\n\u001b[0;32m   1268\u001b[0m \u001b[1;33m\u001b[0m\u001b[0m\n\u001b[1;32m-> 1269\u001b[1;33m         \u001b[0mexpanded_qargs\u001b[0m \u001b[1;33m=\u001b[0m \u001b[1;33m[\u001b[0m\u001b[0mself\u001b[0m\u001b[1;33m.\u001b[0m\u001b[0mqbit_argument_conversion\u001b[0m\u001b[1;33m(\u001b[0m\u001b[0mqarg\u001b[0m\u001b[1;33m)\u001b[0m \u001b[1;32mfor\u001b[0m \u001b[0mqarg\u001b[0m \u001b[1;32min\u001b[0m \u001b[0mqargs\u001b[0m \u001b[1;32mor\u001b[0m \u001b[1;33m[\u001b[0m\u001b[1;33m]\u001b[0m\u001b[1;33m]\u001b[0m\u001b[1;33m\u001b[0m\u001b[1;33m\u001b[0m\u001b[0m\n\u001b[0m\u001b[0;32m   1270\u001b[0m         \u001b[0mexpanded_cargs\u001b[0m \u001b[1;33m=\u001b[0m \u001b[1;33m[\u001b[0m\u001b[0mself\u001b[0m\u001b[1;33m.\u001b[0m\u001b[0mcbit_argument_conversion\u001b[0m\u001b[1;33m(\u001b[0m\u001b[0mcarg\u001b[0m\u001b[1;33m)\u001b[0m \u001b[1;32mfor\u001b[0m \u001b[0mcarg\u001b[0m \u001b[1;32min\u001b[0m \u001b[0mcargs\u001b[0m \u001b[1;32mor\u001b[0m \u001b[1;33m[\u001b[0m\u001b[1;33m]\u001b[0m\u001b[1;33m]\u001b[0m\u001b[1;33m\u001b[0m\u001b[1;33m\u001b[0m\u001b[0m\n\u001b[0;32m   1271\u001b[0m \u001b[1;33m\u001b[0m\u001b[0m\n",
      "\u001b[1;32mc:\\Users\\iain\\Documents\\University\\Thesis\\git\\QML_Thesis\\venvThesis\\lib\\site-packages\\qiskit\\circuit\\quantumcircuit.py\u001b[0m in \u001b[0;36m<listcomp>\u001b[1;34m(.0)\u001b[0m\n\u001b[0;32m   1267\u001b[0m                 \u001b[0moperation\u001b[0m \u001b[1;33m=\u001b[0m \u001b[0mcopy\u001b[0m\u001b[1;33m.\u001b[0m\u001b[0mdeepcopy\u001b[0m\u001b[1;33m(\u001b[0m\u001b[0moperation\u001b[0m\u001b[1;33m)\u001b[0m\u001b[1;33m\u001b[0m\u001b[1;33m\u001b[0m\u001b[0m\n\u001b[0;32m   1268\u001b[0m \u001b[1;33m\u001b[0m\u001b[0m\n\u001b[1;32m-> 1269\u001b[1;33m         \u001b[0mexpanded_qargs\u001b[0m \u001b[1;33m=\u001b[0m \u001b[1;33m[\u001b[0m\u001b[0mself\u001b[0m\u001b[1;33m.\u001b[0m\u001b[0mqbit_argument_conversion\u001b[0m\u001b[1;33m(\u001b[0m\u001b[0mqarg\u001b[0m\u001b[1;33m)\u001b[0m \u001b[1;32mfor\u001b[0m \u001b[0mqarg\u001b[0m \u001b[1;32min\u001b[0m \u001b[0mqargs\u001b[0m \u001b[1;32mor\u001b[0m \u001b[1;33m[\u001b[0m\u001b[1;33m]\u001b[0m\u001b[1;33m]\u001b[0m\u001b[1;33m\u001b[0m\u001b[1;33m\u001b[0m\u001b[0m\n\u001b[0m\u001b[0;32m   1270\u001b[0m         \u001b[0mexpanded_cargs\u001b[0m \u001b[1;33m=\u001b[0m \u001b[1;33m[\u001b[0m\u001b[0mself\u001b[0m\u001b[1;33m.\u001b[0m\u001b[0mcbit_argument_conversion\u001b[0m\u001b[1;33m(\u001b[0m\u001b[0mcarg\u001b[0m\u001b[1;33m)\u001b[0m \u001b[1;32mfor\u001b[0m \u001b[0mcarg\u001b[0m \u001b[1;32min\u001b[0m \u001b[0mcargs\u001b[0m \u001b[1;32mor\u001b[0m \u001b[1;33m[\u001b[0m\u001b[1;33m]\u001b[0m\u001b[1;33m]\u001b[0m\u001b[1;33m\u001b[0m\u001b[1;33m\u001b[0m\u001b[0m\n\u001b[0;32m   1271\u001b[0m \u001b[1;33m\u001b[0m\u001b[0m\n",
      "\u001b[1;32mc:\\Users\\iain\\Documents\\University\\Thesis\\git\\QML_Thesis\\venvThesis\\lib\\site-packages\\qiskit\\circuit\\quantumcircuit.py\u001b[0m in \u001b[0;36mqbit_argument_conversion\u001b[1;34m(self, qubit_representation)\u001b[0m\n\u001b[0;32m   1149\u001b[0m             \u001b[0mList\u001b[0m\u001b[1;33m(\u001b[0m\u001b[0mQubit\u001b[0m\u001b[1;33m)\u001b[0m\u001b[1;33m:\u001b[0m \u001b[0mthe\u001b[0m \u001b[0mresolved\u001b[0m \u001b[0minstances\u001b[0m \u001b[0mof\u001b[0m \u001b[0mthe\u001b[0m \u001b[0mqubits\u001b[0m\u001b[1;33m.\u001b[0m\u001b[1;33m\u001b[0m\u001b[1;33m\u001b[0m\u001b[0m\n\u001b[0;32m   1150\u001b[0m         \"\"\"\n\u001b[1;32m-> 1151\u001b[1;33m         return _bit_argument_conversion(\n\u001b[0m\u001b[0;32m   1152\u001b[0m             \u001b[0mqubit_representation\u001b[0m\u001b[1;33m,\u001b[0m \u001b[0mself\u001b[0m\u001b[1;33m.\u001b[0m\u001b[0mqubits\u001b[0m\u001b[1;33m,\u001b[0m \u001b[0mself\u001b[0m\u001b[1;33m.\u001b[0m\u001b[0m_qubit_indices\u001b[0m\u001b[1;33m,\u001b[0m \u001b[0mQubit\u001b[0m\u001b[1;33m\u001b[0m\u001b[1;33m\u001b[0m\u001b[0m\n\u001b[0;32m   1153\u001b[0m         )\n",
      "\u001b[1;32mc:\\Users\\iain\\Documents\\University\\Thesis\\git\\QML_Thesis\\venvThesis\\lib\\site-packages\\qiskit\\circuit\\quantumcircuit.py\u001b[0m in \u001b[0;36m_bit_argument_conversion\u001b[1;34m(specifier, bit_sequence, bit_set, type_)\u001b[0m\n\u001b[0;32m   4910\u001b[0m             \u001b[1;32mreturn\u001b[0m \u001b[1;33m[\u001b[0m\u001b[0mbit_sequence\u001b[0m\u001b[1;33m[\u001b[0m\u001b[0mspecifier\u001b[0m\u001b[1;33m]\u001b[0m\u001b[1;33m]\u001b[0m\u001b[1;33m\u001b[0m\u001b[1;33m\u001b[0m\u001b[0m\n\u001b[0;32m   4911\u001b[0m         \u001b[1;32mexcept\u001b[0m \u001b[0mIndexError\u001b[0m \u001b[1;32mas\u001b[0m \u001b[0mex\u001b[0m\u001b[1;33m:\u001b[0m\u001b[1;33m\u001b[0m\u001b[1;33m\u001b[0m\u001b[0m\n\u001b[1;32m-> 4912\u001b[1;33m             raise CircuitError(\n\u001b[0m\u001b[0;32m   4913\u001b[0m                 \u001b[1;34mf\"Index {specifier} out of range for size {len(bit_sequence)}.\"\u001b[0m\u001b[1;33m\u001b[0m\u001b[1;33m\u001b[0m\u001b[0m\n\u001b[0;32m   4914\u001b[0m             ) from ex\n",
      "\u001b[1;31mCircuitError\u001b[0m: 'Index 5 out of range for size 5.'"
     ]
    }
   ],
   "source": [
    "circuit = QuantumCircuit(num_bits)\n",
    "\n",
    "#Step 1:\n",
    "for i in range(num_bits):\n",
    "    for j in range(2**(num_bits-i-1)):\n",
    "        top_bit     = (2**i) * (2*j)\n",
    "        bottom_bit  = (2**i) * (2*j + 1)\n",
    "\n",
    "        if bottom_bit >= num_bits:\n",
    "            break\n",
    "\n",
    "        if a[i][j] and b[i][j]:\n",
    "            circuit.cx(bottom_bit, top_bit)\n",
    "        if b[i][j]:\n",
    "            circuit.cx(top_bit, bottom_bit)\n",
    "\n",
    "    circuit.barrier()\n",
    "\n",
    "#Step 2:\n",
    "for k in range(num_bits):\n",
    "    if c[k]:\n",
    "        circuit.x(k)\n",
    "\n",
    "circuit.append(\n",
    "    MCXGate(num_bits-1), \n",
    "    [k for k in range(1, 2**m)]+[0]\n",
    ")\n",
    "\n",
    "for k in range(num_bits):\n",
    "    if c[k]:\n",
    "        circuit.x(k)\n",
    "\n",
    "#Step 3:\n",
    "for i in range(num_bits-1, -1, -1):\n",
    "    circuit.barrier()\n",
    "    for j in range(2**(num_bits-i-1)):\n",
    "        top_bit     = (2**i) * (2*j)\n",
    "        bottom_bit  = (2**i) * (2*j + 1)\n",
    "\n",
    "        if bottom_bit >= num_bits:\n",
    "            break\n",
    "\n",
    "        if b[i][j]:\n",
    "            circuit.cx(top_bit, bottom_bit)\n",
    "        if a[i][j] and b[i][j]:\n",
    "            circuit.cx(bottom_bit, top_bit)\n",
    "\n",
    "\n",
    "circuit.draw(output=\"mpl\")"
   ]
  },
  {
   "cell_type": "markdown",
   "metadata": {},
   "source": [
    "### Testing"
   ]
  },
  {
   "cell_type": "code",
   "execution_count": null,
   "metadata": {},
   "outputs": [],
   "source": [
    "for z in range(2**num_bits):\n",
    "    outputText = ''\n",
    "    bitString = bitsToString(z, num_bits)[::-1]\n",
    "\n",
    "    state = Statevector.from_label(bitString)\n",
    "\n",
    "    state = state.evolve(circuit)\n",
    "\n",
    "    result = state.draw('latex_source')\n",
    "    result = ''.join(i for i in result if i.isdigit())\n",
    "    resultInt = int(f\"0b{result[::-1]}\", base=2)\n",
    "\n",
    "    outputText += f\"init: |{z:>02}> = {state.draw('latex_source')}\"\n",
    "    outputText += f\"\\t||\\tFinal: |{resultInt:>02}> = {state.draw('latex_source')}\\t\"\n",
    "    outputText += \"Id\" if z == resultInt else \"Transposed\"\n",
    "\n",
    "    #print results\n",
    "    print(outputText.replace(r'\\rangle', '>') + \"\\n\")"
   ]
  }
 ],
 "metadata": {
  "kernelspec": {
   "display_name": "venvThesis",
   "language": "python",
   "name": "python3"
  },
  "language_info": {
   "codemirror_mode": {
    "name": "ipython",
    "version": 3
   },
   "file_extension": ".py",
   "mimetype": "text/x-python",
   "name": "python",
   "nbconvert_exporter": "python",
   "pygments_lexer": "ipython3",
   "version": "3.9.2"
  }
 },
 "nbformat": 4,
 "nbformat_minor": 2
}
